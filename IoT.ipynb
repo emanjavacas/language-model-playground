{
 "cells": [
  {
   "cell_type": "code",
   "execution_count": 92,
   "metadata": {
    "slideshow": {
     "slide_type": "slide"
    }
   },
   "outputs": [],
   "source": [
    " # Some general imports\n",
    "from collections import defaultdict, Counter\n",
    "import matplotlib.pyplot as plt\n",
    "import numpy as np\n",
    "\n",
    "# Custom code (see ngram_lm.py and utils.py)\n",
    "from ngram_lm import ngrams, UnsmoothedLM, characters_from_files, words_from_files\n",
    "from utils import plot_output"
   ]
  },
  {
   "cell_type": "markdown",
   "metadata": {
    "slideshow": {
     "slide_type": "slide"
    }
   },
   "source": [
    "\n",
    "# Probabilistic Text Generator\n",
    "\n",
    "\n",
    "Define a probabilistic model of sentences based on the chain rule of probabilities."
   ]
  },
  {
   "cell_type": "markdown",
   "metadata": {
    "slideshow": {
     "slide_type": "subslide"
    }
   },
   "source": [
    "$$P(The, cat, sat, on, the, mat, .) = $$\n"
   ]
  },
  {
   "cell_type": "markdown",
   "metadata": {
    "slideshow": {
     "slide_type": "fragment"
    }
   },
   "source": [
    "$$P(The | \\text{<}bos\\text{>}) *$$\n"
   ]
  },
  {
   "cell_type": "markdown",
   "metadata": {
    "slideshow": {
     "slide_type": "fragment"
    }
   },
   "source": [
    "$$ P(cat | \\text{<}bos\\text{>} , The) * $$ \n"
   ]
  },
  {
   "cell_type": "markdown",
   "metadata": {
    "slideshow": {
     "slide_type": "fragment"
    }
   },
   "source": [
    "$$ \\ldots$$"
   ]
  },
  {
   "cell_type": "markdown",
   "metadata": {
    "slideshow": {
     "slide_type": "fragment"
    }
   },
   "source": [
    "\n",
    "$$ P(. | \\text{<}bos\\text{>} , \\ldots , mat)$$"
   ]
  },
  {
   "cell_type": "markdown",
   "metadata": {
    "slideshow": {
     "slide_type": "slide"
    }
   },
   "source": [
    "# How do we generate text from a probabilistic model of sentences?"
   ]
  },
  {
   "cell_type": "markdown",
   "metadata": {
    "slideshow": {
     "slide_type": "subslide"
    }
   },
   "source": [
    "$$w_1 \\sim P(w|\\text{<}bos\\text{>})$$"
   ]
  },
  {
   "cell_type": "markdown",
   "metadata": {
    "slideshow": {
     "slide_type": "fragment"
    }
   },
   "source": [
    "$$w_2 \\sim P(w|\\text{<}bos\\text{>}, w_1)$$"
   ]
  },
  {
   "cell_type": "markdown",
   "metadata": {
    "slideshow": {
     "slide_type": "fragment"
    }
   },
   "source": [
    "$$\\ldots$$"
   ]
  },
  {
   "cell_type": "markdown",
   "metadata": {
    "slideshow": {
     "slide_type": "fragment"
    }
   },
   "source": [
    "$$w_n \\sim P(w|\\text{<}bos\\text{>}, w_1, ..., w_{n-1})$$"
   ]
  },
  {
   "cell_type": "markdown",
   "metadata": {
    "slideshow": {
     "slide_type": "slide"
    }
   },
   "source": [
    "# Ngram-based (unsmoothed) Language Model\n",
    "\n",
    "- Straight-forward way of implementing a *probabilistic text generator*\n",
    "- A Language Model that estimates the output probability distribution on the basis of n-gram statistics\n",
    "- (ref. Y. Goldberg's http://nbviewer.jupyter.org/gist/yoavg/d76121dfde2618422139)\n",
    "\n"
   ]
  },
  {
   "cell_type": "markdown",
   "metadata": {
    "slideshow": {
     "slide_type": "subslide"
    }
   },
   "source": [
    "## How to fit the model:\n",
    "\n",
    "- Compute ngrams\n",
    "- Count number of times each ngram appears in front of each vocabulary item\n",
    "- Normalize into probabilities"
   ]
  },
  {
   "cell_type": "code",
   "execution_count": 26,
   "metadata": {
    "slideshow": {
     "slide_type": "fragment"
    }
   },
   "outputs": [
    {
     "name": "stdout",
     "output_type": "stream",
     "text": [
      "First Citi\n"
     ]
    }
   ],
   "source": [
    "# Uncomment this block to get some real shakespeare data\n",
    "#!wget http://cs.stanford.edu/people/karpathy/char-rnn/shakespeare_input.txt\n",
    "with open('shakespeare_input.txt', 'r') as f:\n",
    "    corpus = [c for sent in f for c in sent]\n",
    "    \n",
    "print(''.join(corpus[:10]))"
   ]
  },
  {
   "cell_type": "markdown",
   "metadata": {
    "slideshow": {
     "slide_type": "subslide"
    }
   },
   "source": [
    "### Compute n-grams"
   ]
  },
  {
   "cell_type": "code",
   "execution_count": 11,
   "metadata": {
    "slideshow": {
     "slide_type": "fragment"
    }
   },
   "outputs": [
    {
     "name": "stdout",
     "output_type": "stream",
     "text": [
      "('<pad>', '<pad>', 'F')\n",
      "('<pad>', 'F', 'i')\n",
      "('F', 'i', 'r')\n",
      "('i', 'r', 's')\n",
      "('r', 's', 't')\n",
      "('s', 't', ' ')\n",
      "('t', ' ', 'C')\n",
      "(' ', 'C', 'i')\n",
      "('C', 'i', 't')\n",
      "('i', 't', 'i')\n"
     ]
    }
   ],
   "source": [
    "# `ngram`: function defined in ngram_lm.py that computes ngrams over input sequences\n",
    "for i in ngrams(corpus[:10], 3):\n",
    "    print(i)"
   ]
  },
  {
   "cell_type": "markdown",
   "metadata": {
    "slideshow": {
     "slide_type": "subslide"
    }
   },
   "source": [
    "### Count prefix/target co-occurrences and normalize into probabilities"
   ]
  },
  {
   "cell_type": "code",
   "execution_count": 13,
   "metadata": {
    "slideshow": {
     "slide_type": "fragment"
    }
   },
   "outputs": [],
   "source": [
    "model = defaultdict(Counter)\n",
    "\n",
    "# count prefix/target co-occurrences\n",
    "for ngram in ngrams(corpus, 5):\n",
    "    # use first n-1 characters as prefix, last character as target\n",
    "    *prefix, target = ngram\n",
    "    model[tuple(prefix)][target] += 1 # accumulate counts\n",
    "    \n",
    "# normalize into probability distribution\n",
    "for prefix, counter in model.items():\n",
    "    total = sum(counter.values())\n",
    "    model[prefix] = [(target, counts/total) for target, counts in counter.items()]"
   ]
  },
  {
   "cell_type": "code",
   "execution_count": 47,
   "metadata": {
    "slideshow": {
     "slide_type": "subslide"
    }
   },
   "outputs": [
    {
     "data": {
      "image/png": "[encoded data removed]",
      "text/plain": [
       "<Figure size 1152x288 with 1 Axes>"
      ]
     },
     "metadata": {
      "needs_background": "light"
     },
     "output_type": "display_data"
    }
   ],
   "source": [
    "# Visualize output distribution by querying the model and displaying output probability distribution\n",
    "\n",
    "# random ngram from the corpus\n",
    "prefix = 'rst ' \n",
    "targets, probs = zip(*model[tuple(prefix)])\n",
    "# function from utils.py to plot an output distribution\n",
    "ax = plot_output(targets, probs, prefix)"
   ]
  },
  {
   "cell_type": "markdown",
   "metadata": {
    "slideshow": {
     "slide_type": "slide"
    }
   },
   "source": [
    "# RNN-based Language Model\n",
    "\n",
    "- Exploit RNN capability to model forward information flow to condition the output probability on theoretically all previous steps\n",
    "- While ngram model is limited in scope by the \"markov\" assumption that any character is only conditioned by the previous n characters, an RNN-based model is able to capture much longer dependencies"
   ]
  },
  {
   "cell_type": "code",
   "execution_count": 15,
   "metadata": {
    "slideshow": {
     "slide_type": "subslide"
    }
   },
   "outputs": [
    {
     "data": {
      "image/svg+xml": [
       "<svg content=\"&lt;mxfile userAgent=&quot;Mozilla/5.0 (X11; Ubuntu; Linux x86_64; rv:58.0) Gecko/20100101 Firefox/58.0&quot; version=&quot;8.0.4&quot; editor=&quot;www.draw.io&quot; type=&quot;google&quot;&gt;&lt;diagram&gt;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&lt;/diagram&gt;&lt;/mxfile&gt;\" height=\"473px\" version=\"1.1\" width=\"522px\" xmlns=\"http://www.w3.org/2000/svg\" xmlns:xlink=\"http://www.w3.org/1999/xlink\"><defs/><g transform=\"translate(0.5,0.5)\"><rect fill=\"#fff2cc\" height=\"80\" pointer-events=\"none\" rx=\"1.2\" ry=\"1.2\" stroke=\"#ffc859\" width=\"20\" x=\"152\" y=\"343\"/><ellipse cx=\"163\" cy=\"354\" fill=\"#330000\" pointer-events=\"none\" rx=\"2.5\" ry=\"2.5\" stroke=\"#000000\" stroke-width=\"2\"/><ellipse cx=\"163\" cy=\"369\" fill=\"#330000\" pointer-events=\"none\" rx=\"2.5\" ry=\"2.5\" stroke=\"#000000\" stroke-width=\"2\"/><ellipse cx=\"163\" cy=\"415\" fill=\"#330000\" pointer-events=\"none\" rx=\"2.5\" ry=\"2.5\" stroke=\"#000000\" stroke-width=\"2\"/><ellipse cx=\"163\" cy=\"387\" fill=\"#330000\" pointer-events=\"none\" rx=\"1\" ry=\"1\" stroke=\"#000000\" stroke-width=\"2\"/><ellipse cx=\"163\" cy=\"394\" fill=\"#330000\" pointer-events=\"none\" rx=\"1\" ry=\"1\" stroke=\"#000000\" stroke-width=\"2\"/><ellipse cx=\"163\" cy=\"401\" fill=\"#330000\" pointer-events=\"none\" rx=\"1\" ry=\"1\" stroke=\"#000000\" stroke-width=\"2\"/><rect fill=\"#fff2cc\" height=\"80\" pointer-events=\"none\" rx=\"1.2\" ry=\"1.2\" stroke=\"#ffc859\" width=\"20\" x=\"232\" y=\"343\"/><ellipse cx=\"243\" cy=\"354\" fill=\"#330000\" pointer-events=\"none\" rx=\"2.5\" ry=\"2.5\" stroke=\"#000000\" stroke-width=\"2\"/><ellipse cx=\"243\" cy=\"369\" fill=\"#330000\" pointer-events=\"none\" rx=\"2.5\" ry=\"2.5\" stroke=\"#000000\" stroke-width=\"2\"/><ellipse cx=\"243\" cy=\"415\" fill=\"#330000\" pointer-events=\"none\" rx=\"2.5\" ry=\"2.5\" stroke=\"#000000\" stroke-width=\"2\"/><ellipse cx=\"243\" cy=\"387\" fill=\"#330000\" pointer-events=\"none\" rx=\"1\" ry=\"1\" stroke=\"#000000\" stroke-width=\"2\"/><ellipse cx=\"243\" cy=\"394\" fill=\"#330000\" pointer-events=\"none\" rx=\"1\" ry=\"1\" stroke=\"#000000\" stroke-width=\"2\"/><ellipse cx=\"243\" cy=\"401\" fill=\"#330000\" pointer-events=\"none\" rx=\"1\" ry=\"1\" stroke=\"#000000\" stroke-width=\"2\"/><rect fill=\"#fff2cc\" height=\"80\" pointer-events=\"none\" rx=\"1.2\" ry=\"1.2\" stroke=\"#ffc859\" width=\"20\" x=\"313\" y=\"343\"/><ellipse cx=\"324\" cy=\"354\" fill=\"#330000\" pointer-events=\"none\" rx=\"2.5\" ry=\"2.5\" stroke=\"#000000\" stroke-width=\"2\"/><ellipse cx=\"324\" cy=\"369\" fill=\"#330000\" pointer-events=\"none\" rx=\"2.5\" ry=\"2.5\" stroke=\"#000000\" stroke-width=\"2\"/><ellipse cx=\"324\" cy=\"415\" fill=\"#330000\" pointer-events=\"none\" rx=\"2.5\" ry=\"2.5\" stroke=\"#000000\" stroke-width=\"2\"/><ellipse cx=\"324\" cy=\"387\" fill=\"#330000\" pointer-events=\"none\" rx=\"1\" ry=\"1\" stroke=\"#000000\" stroke-width=\"2\"/><ellipse cx=\"324\" cy=\"394\" fill=\"#330000\" pointer-events=\"none\" rx=\"1\" ry=\"1\" stroke=\"#000000\" stroke-width=\"2\"/><ellipse cx=\"324\" cy=\"401\" fill=\"#330000\" pointer-events=\"none\" rx=\"1\" ry=\"1\" stroke=\"#000000\" stroke-width=\"2\"/><rect fill=\"#fff2cc\" height=\"80\" pointer-events=\"none\" rx=\"1.2\" ry=\"1.2\" stroke=\"#ffc859\" width=\"20\" x=\"392\" y=\"343\"/><ellipse cx=\"403\" cy=\"354\" fill=\"#330000\" pointer-events=\"none\" rx=\"2.5\" ry=\"2.5\" stroke=\"#000000\" stroke-width=\"2\"/><ellipse cx=\"403\" cy=\"369\" fill=\"#330000\" pointer-events=\"none\" rx=\"2.5\" ry=\"2.5\" stroke=\"#000000\" stroke-width=\"2\"/><ellipse cx=\"403\" cy=\"415\" fill=\"#330000\" pointer-events=\"none\" rx=\"2.5\" ry=\"2.5\" stroke=\"#000000\" stroke-width=\"2\"/><ellipse cx=\"403\" cy=\"387\" fill=\"#330000\" pointer-events=\"none\" rx=\"1\" ry=\"1\" stroke=\"#000000\" stroke-width=\"2\"/><ellipse cx=\"403\" cy=\"394\" fill=\"#330000\" pointer-events=\"none\" rx=\"1\" ry=\"1\" stroke=\"#000000\" stroke-width=\"2\"/><ellipse cx=\"403\" cy=\"401\" fill=\"#330000\" pointer-events=\"none\" rx=\"1\" ry=\"1\" stroke=\"#000000\" stroke-width=\"2\"/><rect fill=\"#fff2cc\" height=\"80\" pointer-events=\"none\" rx=\"1.2\" ry=\"1.2\" stroke=\"#ffc859\" width=\"20\" x=\"474\" y=\"343\"/><ellipse cx=\"485\" cy=\"354\" fill=\"#330000\" pointer-events=\"none\" rx=\"2.5\" ry=\"2.5\" stroke=\"#000000\" stroke-width=\"2\"/><ellipse cx=\"485\" cy=\"369\" fill=\"#330000\" pointer-events=\"none\" rx=\"2.5\" ry=\"2.5\" stroke=\"#000000\" stroke-width=\"2\"/><ellipse cx=\"485\" cy=\"415\" fill=\"#330000\" pointer-events=\"none\" rx=\"2.5\" ry=\"2.5\" stroke=\"#000000\" stroke-width=\"2\"/><ellipse cx=\"485\" cy=\"387\" fill=\"#330000\" pointer-events=\"none\" rx=\"1\" ry=\"1\" stroke=\"#000000\" stroke-width=\"2\"/><ellipse cx=\"485\" cy=\"394\" fill=\"#330000\" pointer-events=\"none\" rx=\"1\" ry=\"1\" stroke=\"#000000\" stroke-width=\"2\"/><ellipse cx=\"485\" cy=\"401\" fill=\"#330000\" pointer-events=\"none\" rx=\"1\" ry=\"1\" stroke=\"#000000\" stroke-width=\"2\"/><g transform=\"translate(236.5,469.5)rotate(-90,0,0)\"><switch><foreignObject height=\"12\" pointer-events=\"all\" requiredFeatures=\"http://www.w3.org/TR/SVG11/feature#Extensibility\" style=\"overflow:visible;\" width=\"21\"><div style=\"display: inline-block; font-size: 12px; font-family: Courier\\ New; color: rgb(0, 0, 0); line-height: 1.2; vertical-align: top; white-space: nowrap; font-weight: bold;\" xmlns=\"http://www.w3.org/1999/xhtml\"><div style=\"display:inline-block;text-align:inherit;text-decoration:inherit;\" xmlns=\"http://www.w3.org/1999/xhtml\">The</div></div></foreignObject><text fill=\"#000000\" font-family=\"Courier New\" font-size=\"12px\" font-weight=\"bold\" text-anchor=\"middle\" x=\"11\" y=\"12\">The</text></switch></g><g transform=\"translate(315.5,468.5)rotate(-90,0,0)\"><switch><foreignObject height=\"12\" pointer-events=\"all\" requiredFeatures=\"http://www.w3.org/TR/SVG11/feature#Extensibility\" style=\"overflow:visible;\" width=\"21\"><div style=\"display: inline-block; font-size: 12px; font-family: Courier\\ New; color: rgb(0, 0, 0); line-height: 1.2; vertical-align: top; white-space: nowrap; font-weight: bold;\" xmlns=\"http://www.w3.org/1999/xhtml\"><div style=\"display:inline-block;text-align:inherit;text-decoration:inherit;\" xmlns=\"http://www.w3.org/1999/xhtml\">cat</div></div></foreignObject><text fill=\"#000000\" font-family=\"Courier New\" font-size=\"12px\" font-weight=\"bold\" text-anchor=\"middle\" x=\"11\" y=\"12\">cat</text></switch></g><g transform=\"translate(395.5,468.5)rotate(-90,0,0)\"><switch><foreignObject height=\"12\" pointer-events=\"all\" requiredFeatures=\"http://www.w3.org/TR/SVG11/feature#Extensibility\" style=\"overflow:visible;\" width=\"21\"><div style=\"display: inline-block; font-size: 12px; font-family: Courier\\ New; color: rgb(0, 0, 0); line-height: 1.2; vertical-align: top; white-space: nowrap; font-weight: bold;\" xmlns=\"http://www.w3.org/1999/xhtml\"><div style=\"display:inline-block;text-align:inherit;text-decoration:inherit;\" xmlns=\"http://www.w3.org/1999/xhtml\">sat</div></div></foreignObject><text fill=\"#000000\" font-family=\"Courier New\" font-size=\"12px\" font-weight=\"bold\" text-anchor=\"middle\" x=\"11\" y=\"12\">sat</text></switch></g><g transform=\"translate(475.5,467.5)rotate(-90,0,0)\"><switch><foreignObject height=\"12\" pointer-events=\"all\" requiredFeatures=\"http://www.w3.org/TR/SVG11/feature#Extensibility\" style=\"overflow:visible;\" width=\"14\"><div style=\"display: inline-block; font-size: 12px; font-family: Courier\\ New; color: rgb(0, 0, 0); line-height: 1.2; vertical-align: top; white-space: nowrap; font-weight: bold;\" xmlns=\"http://www.w3.org/1999/xhtml\"><div style=\"display:inline-block;text-align:inherit;text-decoration:inherit;\" xmlns=\"http://www.w3.org/1999/xhtml\">on</div></div></foreignObject><text fill=\"#000000\" font-family=\"Courier New\" font-size=\"12px\" font-weight=\"bold\" text-anchor=\"middle\" x=\"7\" y=\"12\">on</text></switch></g><rect fill=\"#f8cecc\" height=\"80\" pointer-events=\"none\" rx=\"1.2\" ry=\"1.2\" stroke=\"#b85450\" width=\"20\" x=\"137\" y=\"212\"/><ellipse cx=\"148\" cy=\"223\" fill=\"#330000\" pointer-events=\"none\" rx=\"2.5\" ry=\"2.5\" stroke=\"#000000\" stroke-width=\"2\"/><ellipse cx=\"148\" cy=\"238\" fill=\"#330000\" pointer-events=\"none\" rx=\"2.5\" ry=\"2.5\" stroke=\"#000000\" stroke-width=\"2\"/><ellipse cx=\"148\" cy=\"284\" fill=\"#330000\" pointer-events=\"none\" rx=\"2.5\" ry=\"2.5\" stroke=\"#000000\" stroke-width=\"2\"/><ellipse cx=\"148\" cy=\"256\" fill=\"#330000\" pointer-events=\"none\" rx=\"1\" ry=\"1\" stroke=\"#000000\" stroke-width=\"2\"/><ellipse cx=\"148\" cy=\"263\" fill=\"#330000\" pointer-events=\"none\" rx=\"1\" ry=\"1\" stroke=\"#000000\" stroke-width=\"2\"/><ellipse cx=\"148\" cy=\"270\" fill=\"#330000\" pointer-events=\"none\" rx=\"1\" ry=\"1\" stroke=\"#000000\" stroke-width=\"2\"/><rect fill=\"#e1d5e7\" height=\"80\" pointer-events=\"none\" rx=\"1.2\" ry=\"1.2\" stroke=\"#9673a6\" width=\"20\" x=\"165\" y=\"212\"/><ellipse cx=\"176\" cy=\"223\" fill=\"#330000\" pointer-events=\"none\" rx=\"2.5\" ry=\"2.5\" stroke=\"#000000\" stroke-width=\"2\"/><ellipse cx=\"176\" cy=\"238\" fill=\"#330000\" pointer-events=\"none\" rx=\"2.5\" ry=\"2.5\" stroke=\"#000000\" stroke-width=\"2\"/><ellipse cx=\"176\" cy=\"284\" fill=\"#330000\" pointer-events=\"none\" rx=\"2.5\" ry=\"2.5\" stroke=\"#000000\" stroke-width=\"2\"/><ellipse cx=\"176\" cy=\"256\" fill=\"#330000\" pointer-events=\"none\" rx=\"1\" ry=\"1\" stroke=\"#000000\" stroke-width=\"2\"/><ellipse cx=\"176\" cy=\"263\" fill=\"#330000\" pointer-events=\"none\" rx=\"1\" ry=\"1\" stroke=\"#000000\" stroke-width=\"2\"/><ellipse cx=\"176\" cy=\"270\" fill=\"#330000\" pointer-events=\"none\" rx=\"1\" ry=\"1\" stroke=\"#000000\" stroke-width=\"2\"/><rect fill=\"#f8cecc\" height=\"80\" pointer-events=\"none\" rx=\"1.2\" ry=\"1.2\" stroke=\"#b85450\" width=\"20\" x=\"218\" y=\"212\"/><ellipse cx=\"229\" cy=\"223\" fill=\"#330000\" pointer-events=\"none\" rx=\"2.5\" ry=\"2.5\" stroke=\"#000000\" stroke-width=\"2\"/><ellipse cx=\"229\" cy=\"238\" fill=\"#330000\" pointer-events=\"none\" rx=\"2.5\" ry=\"2.5\" stroke=\"#000000\" stroke-width=\"2\"/><ellipse cx=\"229\" cy=\"284\" fill=\"#330000\" pointer-events=\"none\" rx=\"2.5\" ry=\"2.5\" stroke=\"#000000\" stroke-width=\"2\"/><ellipse cx=\"229\" cy=\"256\" fill=\"#330000\" pointer-events=\"none\" rx=\"1\" ry=\"1\" stroke=\"#000000\" stroke-width=\"2\"/><ellipse cx=\"229\" cy=\"263\" fill=\"#330000\" pointer-events=\"none\" rx=\"1\" ry=\"1\" stroke=\"#000000\" stroke-width=\"2\"/><ellipse cx=\"229\" cy=\"270\" fill=\"#330000\" pointer-events=\"none\" rx=\"1\" ry=\"1\" stroke=\"#000000\" stroke-width=\"2\"/><rect fill=\"#e1d5e7\" height=\"80\" pointer-events=\"none\" rx=\"1.2\" ry=\"1.2\" stroke=\"#9673a6\" width=\"20\" x=\"246\" y=\"212\"/><ellipse cx=\"257\" cy=\"223\" fill=\"#330000\" pointer-events=\"none\" rx=\"2.5\" ry=\"2.5\" stroke=\"#000000\" stroke-width=\"2\"/><ellipse cx=\"257\" cy=\"238\" fill=\"#330000\" pointer-events=\"none\" rx=\"2.5\" ry=\"2.5\" stroke=\"#000000\" stroke-width=\"2\"/><ellipse cx=\"257\" cy=\"284\" fill=\"#330000\" pointer-events=\"none\" rx=\"2.5\" ry=\"2.5\" stroke=\"#000000\" stroke-width=\"2\"/><ellipse cx=\"257\" cy=\"256\" fill=\"#330000\" pointer-events=\"none\" rx=\"1\" ry=\"1\" stroke=\"#000000\" stroke-width=\"2\"/><ellipse cx=\"257\" cy=\"263\" fill=\"#330000\" pointer-events=\"none\" rx=\"1\" ry=\"1\" stroke=\"#000000\" stroke-width=\"2\"/><ellipse cx=\"257\" cy=\"270\" fill=\"#330000\" pointer-events=\"none\" rx=\"1\" ry=\"1\" stroke=\"#000000\" stroke-width=\"2\"/><rect fill=\"#f8cecc\" height=\"80\" pointer-events=\"none\" rx=\"1.2\" ry=\"1.2\" stroke=\"#b85450\" width=\"20\" x=\"298\" y=\"211\"/><ellipse cx=\"309\" cy=\"222\" fill=\"#330000\" pointer-events=\"none\" rx=\"2.5\" ry=\"2.5\" stroke=\"#000000\" stroke-width=\"2\"/><ellipse cx=\"309\" cy=\"237\" fill=\"#330000\" pointer-events=\"none\" rx=\"2.5\" ry=\"2.5\" stroke=\"#000000\" stroke-width=\"2\"/><ellipse cx=\"309\" cy=\"283\" fill=\"#330000\" pointer-events=\"none\" rx=\"2.5\" ry=\"2.5\" stroke=\"#000000\" stroke-width=\"2\"/><ellipse cx=\"309\" cy=\"255\" fill=\"#330000\" pointer-events=\"none\" rx=\"1\" ry=\"1\" stroke=\"#000000\" stroke-width=\"2\"/><ellipse cx=\"309\" cy=\"262\" fill=\"#330000\" pointer-events=\"none\" rx=\"1\" ry=\"1\" stroke=\"#000000\" stroke-width=\"2\"/><ellipse cx=\"309\" cy=\"269\" fill=\"#330000\" pointer-events=\"none\" rx=\"1\" ry=\"1\" stroke=\"#000000\" stroke-width=\"2\"/><rect fill=\"#e1d5e7\" height=\"80\" pointer-events=\"none\" rx=\"1.2\" ry=\"1.2\" stroke=\"#9673a6\" width=\"20\" x=\"326\" y=\"211\"/><ellipse cx=\"337\" cy=\"222\" fill=\"#330000\" pointer-events=\"none\" rx=\"2.5\" ry=\"2.5\" stroke=\"#000000\" stroke-width=\"2\"/><ellipse cx=\"337\" cy=\"237\" fill=\"#330000\" pointer-events=\"none\" rx=\"2.5\" ry=\"2.5\" stroke=\"#000000\" stroke-width=\"2\"/><ellipse cx=\"337\" cy=\"283\" fill=\"#330000\" pointer-events=\"none\" rx=\"2.5\" ry=\"2.5\" stroke=\"#000000\" stroke-width=\"2\"/><ellipse cx=\"337\" cy=\"255\" fill=\"#330000\" pointer-events=\"none\" rx=\"1\" ry=\"1\" stroke=\"#000000\" stroke-width=\"2\"/><ellipse cx=\"337\" cy=\"262\" fill=\"#330000\" pointer-events=\"none\" rx=\"1\" ry=\"1\" stroke=\"#000000\" stroke-width=\"2\"/><ellipse cx=\"337\" cy=\"269\" fill=\"#330000\" pointer-events=\"none\" rx=\"1\" ry=\"1\" stroke=\"#000000\" stroke-width=\"2\"/><rect fill=\"#f8cecc\" height=\"80\" pointer-events=\"none\" rx=\"1.2\" ry=\"1.2\" stroke=\"#b85450\" width=\"20\" x=\"378\" y=\"211\"/><ellipse cx=\"389\" cy=\"222\" fill=\"#330000\" pointer-events=\"none\" rx=\"2.5\" ry=\"2.5\" stroke=\"#000000\" stroke-width=\"2\"/><ellipse cx=\"389\" cy=\"237\" fill=\"#330000\" pointer-events=\"none\" rx=\"2.5\" ry=\"2.5\" stroke=\"#000000\" stroke-width=\"2\"/><ellipse cx=\"389\" cy=\"283\" fill=\"#330000\" pointer-events=\"none\" rx=\"2.5\" ry=\"2.5\" stroke=\"#000000\" stroke-width=\"2\"/><ellipse cx=\"389\" cy=\"255\" fill=\"#330000\" pointer-events=\"none\" rx=\"1\" ry=\"1\" stroke=\"#000000\" stroke-width=\"2\"/><ellipse cx=\"389\" cy=\"262\" fill=\"#330000\" pointer-events=\"none\" rx=\"1\" ry=\"1\" stroke=\"#000000\" stroke-width=\"2\"/><ellipse cx=\"389\" cy=\"269\" fill=\"#330000\" pointer-events=\"none\" rx=\"1\" ry=\"1\" stroke=\"#000000\" stroke-width=\"2\"/><rect fill=\"#e1d5e7\" height=\"80\" pointer-events=\"none\" rx=\"1.2\" ry=\"1.2\" stroke=\"#9673a6\" width=\"20\" x=\"406\" y=\"211\"/><ellipse cx=\"417\" cy=\"222\" fill=\"#330000\" pointer-events=\"none\" rx=\"2.5\" ry=\"2.5\" stroke=\"#000000\" stroke-width=\"2\"/><ellipse cx=\"417\" cy=\"237\" fill=\"#330000\" pointer-events=\"none\" rx=\"2.5\" ry=\"2.5\" stroke=\"#000000\" stroke-width=\"2\"/><ellipse cx=\"417\" cy=\"283\" fill=\"#330000\" pointer-events=\"none\" rx=\"2.5\" ry=\"2.5\" stroke=\"#000000\" stroke-width=\"2\"/><ellipse cx=\"417\" cy=\"255\" fill=\"#330000\" pointer-events=\"none\" rx=\"1\" ry=\"1\" stroke=\"#000000\" stroke-width=\"2\"/><ellipse cx=\"417\" cy=\"262\" fill=\"#330000\" pointer-events=\"none\" rx=\"1\" ry=\"1\" stroke=\"#000000\" stroke-width=\"2\"/><ellipse cx=\"417\" cy=\"269\" fill=\"#330000\" pointer-events=\"none\" rx=\"1\" ry=\"1\" stroke=\"#000000\" stroke-width=\"2\"/><rect fill=\"#f8cecc\" height=\"80\" pointer-events=\"none\" rx=\"1.2\" ry=\"1.2\" stroke=\"#b85450\" width=\"20\" x=\"458\" y=\"212\"/><ellipse cx=\"469\" cy=\"223\" fill=\"#330000\" pointer-events=\"none\" rx=\"2.5\" ry=\"2.5\" stroke=\"#000000\" stroke-width=\"2\"/><ellipse cx=\"469\" cy=\"238\" fill=\"#330000\" pointer-events=\"none\" rx=\"2.5\" ry=\"2.5\" stroke=\"#000000\" stroke-width=\"2\"/><ellipse cx=\"469\" cy=\"284\" fill=\"#330000\" pointer-events=\"none\" rx=\"2.5\" ry=\"2.5\" stroke=\"#000000\" stroke-width=\"2\"/><ellipse cx=\"469\" cy=\"256\" fill=\"#330000\" pointer-events=\"none\" rx=\"1\" ry=\"1\" stroke=\"#000000\" stroke-width=\"2\"/><ellipse cx=\"469\" cy=\"263\" fill=\"#330000\" pointer-events=\"none\" rx=\"1\" ry=\"1\" stroke=\"#000000\" stroke-width=\"2\"/><ellipse cx=\"469\" cy=\"270\" fill=\"#330000\" pointer-events=\"none\" rx=\"1\" ry=\"1\" stroke=\"#000000\" stroke-width=\"2\"/><rect fill=\"#e1d5e7\" height=\"80\" pointer-events=\"none\" rx=\"1.2\" ry=\"1.2\" stroke=\"#9673a6\" width=\"20\" x=\"486\" y=\"212\"/><ellipse cx=\"497\" cy=\"223\" fill=\"#330000\" pointer-events=\"none\" rx=\"2.5\" ry=\"2.5\" stroke=\"#000000\" stroke-width=\"2\"/><ellipse cx=\"497\" cy=\"238\" fill=\"#330000\" pointer-events=\"none\" rx=\"2.5\" ry=\"2.5\" stroke=\"#000000\" stroke-width=\"2\"/><ellipse cx=\"497\" cy=\"284\" fill=\"#330000\" pointer-events=\"none\" rx=\"2.5\" ry=\"2.5\" stroke=\"#000000\" stroke-width=\"2\"/><ellipse cx=\"497\" cy=\"256\" fill=\"#330000\" pointer-events=\"none\" rx=\"1\" ry=\"1\" stroke=\"#000000\" stroke-width=\"2\"/><ellipse cx=\"497\" cy=\"263\" fill=\"#330000\" pointer-events=\"none\" rx=\"1\" ry=\"1\" stroke=\"#000000\" stroke-width=\"2\"/><ellipse cx=\"497\" cy=\"270\" fill=\"#330000\" pointer-events=\"none\" rx=\"1\" ry=\"1\" stroke=\"#000000\" stroke-width=\"2\"/><rect fill=\"#d5e8d4\" height=\"80\" pointer-events=\"none\" rx=\"1.2\" ry=\"1.2\" stroke=\"#82b366\" width=\"20\" x=\"152\" y=\"65\"/><ellipse cx=\"163\" cy=\"76\" fill=\"#330000\" pointer-events=\"none\" rx=\"2.5\" ry=\"2.5\" stroke=\"#000000\" stroke-width=\"2\"/><ellipse cx=\"163\" cy=\"91\" fill=\"#330000\" pointer-events=\"none\" rx=\"2.5\" ry=\"2.5\" stroke=\"#000000\" stroke-width=\"2\"/><ellipse cx=\"163\" cy=\"137\" fill=\"#330000\" pointer-events=\"none\" rx=\"2.5\" ry=\"2.5\" stroke=\"#000000\" stroke-width=\"2\"/><ellipse cx=\"163\" cy=\"109\" fill=\"#330000\" pointer-events=\"none\" rx=\"1\" ry=\"1\" stroke=\"#000000\" stroke-width=\"2\"/><ellipse cx=\"163\" cy=\"116\" fill=\"#330000\" pointer-events=\"none\" rx=\"1\" ry=\"1\" stroke=\"#000000\" stroke-width=\"2\"/><ellipse cx=\"163\" cy=\"123\" fill=\"#330000\" pointer-events=\"none\" rx=\"1\" ry=\"1\" stroke=\"#000000\" stroke-width=\"2\"/><rect fill=\"#d5e8d4\" height=\"80\" pointer-events=\"none\" rx=\"1.2\" ry=\"1.2\" stroke=\"#82b366\" width=\"20\" x=\"232\" y=\"65\"/><ellipse cx=\"243\" cy=\"76\" fill=\"#330000\" pointer-events=\"none\" rx=\"2.5\" ry=\"2.5\" stroke=\"#000000\" stroke-width=\"2\"/><ellipse cx=\"243\" cy=\"91\" fill=\"#330000\" pointer-events=\"none\" rx=\"2.5\" ry=\"2.5\" stroke=\"#000000\" stroke-width=\"2\"/><ellipse cx=\"243\" cy=\"137\" fill=\"#330000\" pointer-events=\"none\" rx=\"2.5\" ry=\"2.5\" stroke=\"#000000\" stroke-width=\"2\"/><ellipse cx=\"243\" cy=\"109\" fill=\"#330000\" pointer-events=\"none\" rx=\"1\" ry=\"1\" stroke=\"#000000\" stroke-width=\"2\"/><ellipse cx=\"243\" cy=\"116\" fill=\"#330000\" pointer-events=\"none\" rx=\"1\" ry=\"1\" stroke=\"#000000\" stroke-width=\"2\"/><ellipse cx=\"243\" cy=\"123\" fill=\"#330000\" pointer-events=\"none\" rx=\"1\" ry=\"1\" stroke=\"#000000\" stroke-width=\"2\"/><rect fill=\"#d5e8d4\" height=\"80\" pointer-events=\"none\" rx=\"1.2\" ry=\"1.2\" stroke=\"#82b366\" width=\"20\" x=\"313\" y=\"65\"/><ellipse cx=\"324\" cy=\"76\" fill=\"#330000\" pointer-events=\"none\" rx=\"2.5\" ry=\"2.5\" stroke=\"#000000\" stroke-width=\"2\"/><ellipse cx=\"324\" cy=\"91\" fill=\"#330000\" pointer-events=\"none\" rx=\"2.5\" ry=\"2.5\" stroke=\"#000000\" stroke-width=\"2\"/><ellipse cx=\"324\" cy=\"137\" fill=\"#330000\" pointer-events=\"none\" rx=\"2.5\" ry=\"2.5\" stroke=\"#000000\" stroke-width=\"2\"/><ellipse cx=\"324\" cy=\"109\" fill=\"#330000\" pointer-events=\"none\" rx=\"1\" ry=\"1\" stroke=\"#000000\" stroke-width=\"2\"/><ellipse cx=\"324\" cy=\"116\" fill=\"#330000\" pointer-events=\"none\" rx=\"1\" ry=\"1\" stroke=\"#000000\" stroke-width=\"2\"/><ellipse cx=\"324\" cy=\"123\" fill=\"#330000\" pointer-events=\"none\" rx=\"1\" ry=\"1\" stroke=\"#000000\" stroke-width=\"2\"/><rect fill=\"#d5e8d4\" height=\"80\" pointer-events=\"none\" rx=\"1.2\" ry=\"1.2\" stroke=\"#82b366\" width=\"20\" x=\"392\" y=\"65\"/><ellipse cx=\"403\" cy=\"76\" fill=\"#330000\" pointer-events=\"none\" rx=\"2.5\" ry=\"2.5\" stroke=\"#000000\" stroke-width=\"2\"/><ellipse cx=\"403\" cy=\"91\" fill=\"#330000\" pointer-events=\"none\" rx=\"2.5\" ry=\"2.5\" stroke=\"#000000\" stroke-width=\"2\"/><ellipse cx=\"403\" cy=\"137\" fill=\"#330000\" pointer-events=\"none\" rx=\"2.5\" ry=\"2.5\" stroke=\"#000000\" stroke-width=\"2\"/><ellipse cx=\"403\" cy=\"109\" fill=\"#330000\" pointer-events=\"none\" rx=\"1\" ry=\"1\" stroke=\"#000000\" stroke-width=\"2\"/><ellipse cx=\"403\" cy=\"116\" fill=\"#330000\" pointer-events=\"none\" rx=\"1\" ry=\"1\" stroke=\"#000000\" stroke-width=\"2\"/><ellipse cx=\"403\" cy=\"123\" fill=\"#330000\" pointer-events=\"none\" rx=\"1\" ry=\"1\" stroke=\"#000000\" stroke-width=\"2\"/><rect fill=\"#d5e8d4\" height=\"80\" pointer-events=\"none\" rx=\"1.2\" ry=\"1.2\" stroke=\"#82b366\" width=\"20\" x=\"474\" y=\"65\"/><ellipse cx=\"485\" cy=\"76\" fill=\"#330000\" pointer-events=\"none\" rx=\"2.5\" ry=\"2.5\" stroke=\"#000000\" stroke-width=\"2\"/><ellipse cx=\"485\" cy=\"91\" fill=\"#330000\" pointer-events=\"none\" rx=\"2.5\" ry=\"2.5\" stroke=\"#000000\" stroke-width=\"2\"/><ellipse cx=\"485\" cy=\"137\" fill=\"#330000\" pointer-events=\"none\" rx=\"2.5\" ry=\"2.5\" stroke=\"#000000\" stroke-width=\"2\"/><ellipse cx=\"485\" cy=\"109\" fill=\"#330000\" pointer-events=\"none\" rx=\"1\" ry=\"1\" stroke=\"#000000\" stroke-width=\"2\"/><ellipse cx=\"485\" cy=\"116\" fill=\"#330000\" pointer-events=\"none\" rx=\"1\" ry=\"1\" stroke=\"#000000\" stroke-width=\"2\"/><ellipse cx=\"485\" cy=\"123\" fill=\"#330000\" pointer-events=\"none\" rx=\"1\" ry=\"1\" stroke=\"#000000\" stroke-width=\"2\"/><path d=\"M 162 343 L 162 318 L 147 318 L 147 298.37\" fill=\"none\" pointer-events=\"none\" stroke=\"#000000\" stroke-miterlimit=\"10\"/><path d=\"M 147 293.12 L 150.5 300.12 L 147 298.37 L 143.5 300.12 Z\" fill=\"#000000\" pointer-events=\"none\" stroke=\"#000000\" stroke-miterlimit=\"10\"/><path d=\"M 162 343 L 162 318 L 175 318 L 175 298.37\" fill=\"none\" pointer-events=\"none\" stroke=\"#000000\" stroke-miterlimit=\"10\"/><path d=\"M 175 293.12 L 178.5 300.12 L 175 298.37 L 171.5 300.12 Z\" fill=\"#000000\" pointer-events=\"none\" stroke=\"#000000\" stroke-miterlimit=\"10\"/><path d=\"M 242 343 L 242 318 L 228 318 L 228 298.37\" fill=\"none\" pointer-events=\"none\" stroke=\"#000000\" stroke-miterlimit=\"10\"/><path d=\"M 228 293.12 L 231.5 300.12 L 228 298.37 L 224.5 300.12 Z\" fill=\"#000000\" pointer-events=\"none\" stroke=\"#000000\" stroke-miterlimit=\"10\"/><path d=\"M 242 343 L 242 318 L 256 318 L 256 298.37\" fill=\"none\" pointer-events=\"none\" stroke=\"#000000\" stroke-miterlimit=\"10\"/><path d=\"M 256 293.12 L 259.5 300.12 L 256 298.37 L 252.5 300.12 Z\" fill=\"#000000\" pointer-events=\"none\" stroke=\"#000000\" stroke-miterlimit=\"10\"/><path d=\"M 323 343 L 323 317 L 308 317 L 308 297.37\" fill=\"none\" pointer-events=\"none\" stroke=\"#000000\" stroke-miterlimit=\"10\"/><path d=\"M 308 292.12 L 311.5 299.12 L 308 297.37 L 304.5 299.12 Z\" fill=\"#000000\" pointer-events=\"none\" stroke=\"#000000\" stroke-miterlimit=\"10\"/><path d=\"M 323 343 L 323 317 L 336 317 L 336 297.37\" fill=\"none\" pointer-events=\"none\" stroke=\"#000000\" stroke-miterlimit=\"10\"/><path d=\"M 336 292.12 L 339.5 299.12 L 336 297.37 L 332.5 299.12 Z\" fill=\"#000000\" pointer-events=\"none\" stroke=\"#000000\" stroke-miterlimit=\"10\"/><path d=\"M 402 343 L 402 317 L 388 317 L 388 297.37\" fill=\"none\" pointer-events=\"none\" stroke=\"#000000\" stroke-miterlimit=\"10\"/><path d=\"M 388 292.12 L 391.5 299.12 L 388 297.37 L 384.5 299.12 Z\" fill=\"#000000\" pointer-events=\"none\" stroke=\"#000000\" stroke-miterlimit=\"10\"/><path d=\"M 402 343 L 402 317 L 416 317 L 416 297.37\" fill=\"none\" pointer-events=\"none\" stroke=\"#000000\" stroke-miterlimit=\"10\"/><path d=\"M 416 292.12 L 419.5 299.12 L 416 297.37 L 412.5 299.12 Z\" fill=\"#000000\" pointer-events=\"none\" stroke=\"#000000\" stroke-miterlimit=\"10\"/><path d=\"M 484 343 L 484 318 L 468 318 L 468 298.37\" fill=\"none\" pointer-events=\"none\" stroke=\"#000000\" stroke-miterlimit=\"10\"/><path d=\"M 468 293.12 L 471.5 300.12 L 468 298.37 L 464.5 300.12 Z\" fill=\"#000000\" pointer-events=\"none\" stroke=\"#000000\" stroke-miterlimit=\"10\"/><path d=\"M 484 343 L 484 318 L 496 318 L 496 298.37\" fill=\"none\" pointer-events=\"none\" stroke=\"#000000\" stroke-miterlimit=\"10\"/><path d=\"M 496 293.12 L 499.5 300.12 L 496 298.37 L 492.5 300.12 Z\" fill=\"#000000\" pointer-events=\"none\" stroke=\"#000000\" stroke-miterlimit=\"10\"/><path d=\"M 185 252 L 191 252 L 191 179 L 162 179 L 162 151.37\" fill=\"none\" pointer-events=\"none\" stroke=\"#000000\" stroke-miterlimit=\"10\"/><path d=\"M 162 146.12 L 165.5 153.12 L 162 151.37 L 158.5 153.12 Z\" fill=\"#000000\" pointer-events=\"none\" stroke=\"#000000\" stroke-miterlimit=\"10\"/><path d=\"M 266 252 L 272 252 L 272 179 L 242 179 L 242 151.37\" fill=\"none\" pointer-events=\"none\" stroke=\"#000000\" stroke-miterlimit=\"10\"/><path d=\"M 242 146.12 L 245.5 153.12 L 242 151.37 L 238.5 153.12 Z\" fill=\"#000000\" pointer-events=\"none\" stroke=\"#000000\" stroke-miterlimit=\"10\"/><path d=\"M 346 251 L 352 251 L 352 178 L 323 178 L 323 151.37\" fill=\"none\" pointer-events=\"none\" stroke=\"#000000\" stroke-miterlimit=\"10\"/><path d=\"M 323 146.12 L 326.5 153.12 L 323 151.37 L 319.5 153.12 Z\" fill=\"#000000\" pointer-events=\"none\" stroke=\"#000000\" stroke-miterlimit=\"10\"/><path d=\"M 426 251 L 432 251 L 432 178 L 402 178 L 402 151.37\" fill=\"none\" pointer-events=\"none\" stroke=\"#000000\" stroke-miterlimit=\"10\"/><path d=\"M 402 146.12 L 405.5 153.12 L 402 151.37 L 398.5 153.12 Z\" fill=\"#000000\" pointer-events=\"none\" stroke=\"#000000\" stroke-miterlimit=\"10\"/><path d=\"M 506 252 L 513 252 L 513 179 L 484 179 L 484 151.37\" fill=\"none\" pointer-events=\"none\" stroke=\"#000000\" stroke-miterlimit=\"10\"/><path d=\"M 484 146.12 L 487.5 153.12 L 484 151.37 L 480.5 153.12 Z\" fill=\"#000000\" pointer-events=\"none\" stroke=\"#000000\" stroke-miterlimit=\"10\"/><path d=\"M 147 212 L 147 189 L 175 189 L 175 205.63\" fill=\"none\" pointer-events=\"none\" stroke=\"#000000\" stroke-miterlimit=\"10\"/><path d=\"M 175 210.88 L 171.5 203.88 L 175 205.63 L 178.5 203.88 Z\" fill=\"#000000\" pointer-events=\"none\" stroke=\"#000000\" stroke-miterlimit=\"10\"/><path d=\"M 228 212 L 228 189 L 256 189 L 256 205.63\" fill=\"none\" pointer-events=\"none\" stroke=\"#000000\" stroke-miterlimit=\"10\"/><path d=\"M 256 210.88 L 252.5 203.88 L 256 205.63 L 259.5 203.88 Z\" fill=\"#000000\" pointer-events=\"none\" stroke=\"#000000\" stroke-miterlimit=\"10\"/><path d=\"M 308 211 L 308 189 L 336 189 L 336 204.63\" fill=\"none\" pointer-events=\"none\" stroke=\"#000000\" stroke-miterlimit=\"10\"/><path d=\"M 336 209.88 L 332.5 202.88 L 336 204.63 L 339.5 202.88 Z\" fill=\"#000000\" pointer-events=\"none\" stroke=\"#000000\" stroke-miterlimit=\"10\"/><path d=\"M 388 211 L 388 189 L 416 189 L 416 204.63\" fill=\"none\" pointer-events=\"none\" stroke=\"#000000\" stroke-miterlimit=\"10\"/><path d=\"M 416 209.88 L 412.5 202.88 L 416 204.63 L 419.5 202.88 Z\" fill=\"#000000\" pointer-events=\"none\" stroke=\"#000000\" stroke-miterlimit=\"10\"/><path d=\"M 468 212 L 468 189 L 496 189 L 496 205.63\" fill=\"none\" pointer-events=\"none\" stroke=\"#000000\" stroke-miterlimit=\"10\"/><path d=\"M 496 210.88 L 492.5 203.88 L 496 205.63 L 499.5 203.88 Z\" fill=\"#000000\" pointer-events=\"none\" stroke=\"#000000\" stroke-miterlimit=\"10\"/><path d=\"M 185 252 L 211.63 252\" fill=\"none\" pointer-events=\"none\" stroke=\"#000000\" stroke-miterlimit=\"10\"/><path d=\"M 216.88 252 L 209.88 255.5 L 211.63 252 L 209.88 248.5 Z\" fill=\"#000000\" pointer-events=\"none\" stroke=\"#000000\" stroke-miterlimit=\"10\"/><path d=\"M 346 251 L 371.63 251\" fill=\"none\" pointer-events=\"none\" stroke=\"#000000\" stroke-miterlimit=\"10\"/><path d=\"M 376.88 251 L 369.88 254.5 L 371.63 251 L 369.88 247.5 Z\" fill=\"#000000\" pointer-events=\"none\" stroke=\"#000000\" stroke-miterlimit=\"10\"/><path d=\"M 426 251 L 450.63 251\" fill=\"none\" pointer-events=\"none\" stroke=\"#000000\" stroke-miterlimit=\"10\"/><path d=\"M 455.88 251 L 448.88 254.5 L 450.63 251 L 448.88 247.5 Z\" fill=\"#000000\" pointer-events=\"none\" stroke=\"#000000\" stroke-miterlimit=\"10\"/><path d=\"M 266 252 L 290.63 252\" fill=\"none\" pointer-events=\"none\" stroke=\"#000000\" stroke-miterlimit=\"10\"/><path d=\"M 295.88 252 L 288.88 255.5 L 290.63 252 L 288.88 248.5 Z\" fill=\"#000000\" pointer-events=\"none\" stroke=\"#000000\" stroke-miterlimit=\"10\"/><g transform=\"translate(154.5,468.5)rotate(-90,0,0)\"><switch><foreignObject height=\"12\" pointer-events=\"all\" requiredFeatures=\"http://www.w3.org/TR/SVG11/feature#Extensibility\" style=\"overflow:visible;\" width=\"35\"><div style=\"display: inline-block; font-size: 12px; font-family: Courier\\ New; color: rgb(0, 0, 0); line-height: 1.2; vertical-align: top; white-space: nowrap; font-weight: bold;\" xmlns=\"http://www.w3.org/1999/xhtml\"><div style=\"display:inline-block;text-align:inherit;text-decoration:inherit;\" xmlns=\"http://www.w3.org/1999/xhtml\">&lt;eos&gt;</div></div></foreignObject><text fill=\"#000000\" font-family=\"Courier New\" font-size=\"12px\" font-weight=\"bold\" text-anchor=\"middle\" x=\"18\" y=\"12\">&amp;lt;eos&amp;gt;</text></switch></g><g transform=\"translate(234.5,36.5)rotate(-90,0,0)\"><switch><foreignObject height=\"12\" pointer-events=\"all\" requiredFeatures=\"http://www.w3.org/TR/SVG11/feature#Extensibility\" style=\"overflow:visible;\" width=\"21\"><div style=\"display: inline-block; font-size: 12px; font-family: Courier\\ New; color: rgb(0, 0, 0); line-height: 1.2; vertical-align: top; white-space: nowrap; font-weight: bold;\" xmlns=\"http://www.w3.org/1999/xhtml\"><div style=\"display:inline-block;text-align:inherit;text-decoration:inherit;\" xmlns=\"http://www.w3.org/1999/xhtml\">cat</div></div></foreignObject><text fill=\"#000000\" font-family=\"Courier New\" font-size=\"12px\" font-weight=\"bold\" text-anchor=\"middle\" x=\"11\" y=\"12\">cat</text></switch></g><g transform=\"translate(314.5,36.5)rotate(-90,0,0)\"><switch><foreignObject height=\"12\" pointer-events=\"all\" requiredFeatures=\"http://www.w3.org/TR/SVG11/feature#Extensibility\" style=\"overflow:visible;\" width=\"21\"><div style=\"display: inline-block; font-size: 12px; font-family: Courier\\ New; color: rgb(0, 0, 0); line-height: 1.2; vertical-align: top; white-space: nowrap; font-weight: bold;\" xmlns=\"http://www.w3.org/1999/xhtml\"><div style=\"display:inline-block;text-align:inherit;text-decoration:inherit;\" xmlns=\"http://www.w3.org/1999/xhtml\">sat</div></div></foreignObject><text fill=\"#000000\" font-family=\"Courier New\" font-size=\"12px\" font-weight=\"bold\" text-anchor=\"middle\" x=\"11\" y=\"12\">sat</text></switch></g><g transform=\"translate(394.5,35.5)rotate(-90,0,0)\"><switch><foreignObject height=\"12\" pointer-events=\"all\" requiredFeatures=\"http://www.w3.org/TR/SVG11/feature#Extensibility\" style=\"overflow:visible;\" width=\"14\"><div style=\"display: inline-block; font-size: 12px; font-family: Courier\\ New; color: rgb(0, 0, 0); line-height: 1.2; vertical-align: top; white-space: nowrap; font-weight: bold;\" xmlns=\"http://www.w3.org/1999/xhtml\"><div style=\"display:inline-block;text-align:inherit;text-decoration:inherit;\" xmlns=\"http://www.w3.org/1999/xhtml\">on</div></div></foreignObject><text fill=\"#000000\" font-family=\"Courier New\" font-size=\"12px\" font-weight=\"bold\" text-anchor=\"middle\" x=\"7\" y=\"12\">on</text></switch></g><g transform=\"translate(155.5,37.5)rotate(-90,0,0)\"><switch><foreignObject height=\"12\" pointer-events=\"all\" requiredFeatures=\"http://www.w3.org/TR/SVG11/feature#Extensibility\" style=\"overflow:visible;\" width=\"21\"><div style=\"display: inline-block; font-size: 12px; font-family: Courier\\ New; color: rgb(0, 0, 0); line-height: 1.2; vertical-align: top; white-space: nowrap; font-weight: bold;\" xmlns=\"http://www.w3.org/1999/xhtml\"><div style=\"display:inline-block;text-align:inherit;text-decoration:inherit;\" xmlns=\"http://www.w3.org/1999/xhtml\">The</div></div></foreignObject><text fill=\"#000000\" font-family=\"Courier New\" font-size=\"12px\" font-weight=\"bold\" text-anchor=\"middle\" x=\"11\" y=\"12\">The</text></switch></g><g transform=\"translate(476.5,35.5)rotate(-90,0,0)\"><switch><foreignObject height=\"12\" pointer-events=\"all\" requiredFeatures=\"http://www.w3.org/TR/SVG11/feature#Extensibility\" style=\"overflow:visible;\" width=\"21\"><div style=\"display: inline-block; font-size: 12px; font-family: Courier\\ New; color: rgb(0, 0, 0); line-height: 1.2; vertical-align: top; white-space: nowrap; font-weight: bold;\" xmlns=\"http://www.w3.org/1999/xhtml\"><div style=\"display:inline-block;text-align:inherit;text-decoration:inherit;\" xmlns=\"http://www.w3.org/1999/xhtml\">the</div></div></foreignObject><text fill=\"#000000\" font-family=\"Courier New\" font-size=\"12px\" font-weight=\"bold\" text-anchor=\"middle\" x=\"11\" y=\"12\">the</text></switch></g><g transform=\"translate(1.5,376.5)\"><switch><foreignObject height=\"12\" pointer-events=\"all\" requiredFeatures=\"http://www.w3.org/TR/SVG11/feature#Extensibility\" style=\"overflow:visible;\" width=\"63\"><div style=\"display: inline-block; font-size: 12px; font-family: Courier\\ New; color: rgb(0, 0, 0); line-height: 1.2; vertical-align: top; white-space: nowrap;\" xmlns=\"http://www.w3.org/1999/xhtml\"><div style=\"display:inline-block;text-align:inherit;text-decoration:inherit;\" xmlns=\"http://www.w3.org/1999/xhtml\">Embedding</div></div></foreignObject><text fill=\"#000000\" font-family=\"Courier New\" font-size=\"12px\" text-anchor=\"middle\" x=\"32\" y=\"12\">Embedding</text></switch></g><g transform=\"translate(1.5,448.5)\"><switch><foreignObject height=\"12\" pointer-events=\"all\" requiredFeatures=\"http://www.w3.org/TR/SVG11/feature#Extensibility\" style=\"overflow:visible;\" width=\"91\"><div style=\"display: inline-block; font-size: 12px; font-family: Courier\\ New; color: rgb(0, 0, 0); line-height: 1.2; vertical-align: top; white-space: nowrap;\" xmlns=\"http://www.w3.org/1999/xhtml\"><div style=\"display:inline-block;text-align:inherit;text-decoration:inherit;\" xmlns=\"http://www.w3.org/1999/xhtml\">Input symbols</div></div></foreignObject><text fill=\"#000000\" font-family=\"Courier New\" font-size=\"12px\" text-anchor=\"middle\" x=\"46\" y=\"12\">Input symbols</text></switch></g><g transform=\"translate(1.5,243.5)\"><switch><foreignObject height=\"12\" pointer-events=\"all\" requiredFeatures=\"http://www.w3.org/TR/SVG11/feature#Extensibility\" style=\"overflow:visible;\" width=\"77\"><div style=\"display: inline-block; font-size: 12px; font-family: Courier\\ New; color: rgb(0, 0, 0); line-height: 1.2; vertical-align: top; white-space: nowrap;\" xmlns=\"http://www.w3.org/1999/xhtml\"><div style=\"display:inline-block;text-align:inherit;text-decoration:inherit;\" xmlns=\"http://www.w3.org/1999/xhtml\">Hidden LSTM</div></div></foreignObject><text fill=\"#000000\" font-family=\"Courier New\" font-size=\"12px\" text-anchor=\"middle\" x=\"39\" y=\"12\">Hidden LSTM</text></switch></g><g transform=\"translate(1.5,100.5)\"><switch><foreignObject height=\"12\" pointer-events=\"all\" requiredFeatures=\"http://www.w3.org/TR/SVG11/feature#Extensibility\" style=\"overflow:visible;\" width=\"133\"><div style=\"display: inline-block; font-size: 12px; font-family: Courier\\ New; color: rgb(0, 0, 0); line-height: 1.2; vertical-align: top; white-space: nowrap;\" xmlns=\"http://www.w3.org/1999/xhtml\"><div style=\"display:inline-block;text-align:inherit;text-decoration:inherit;\" xmlns=\"http://www.w3.org/1999/xhtml\">Output distribution<br/></div></div></foreignObject><text fill=\"#000000\" font-family=\"Courier New\" font-size=\"12px\" text-anchor=\"middle\" x=\"67\" y=\"12\">Output distribution&lt;br&gt;</text></switch></g><g transform=\"translate(1.5,22.5)\"><switch><foreignObject height=\"12\" pointer-events=\"all\" requiredFeatures=\"http://www.w3.org/TR/SVG11/feature#Extensibility\" style=\"overflow:visible;\" width=\"98\"><div style=\"display: inline-block; font-size: 12px; font-family: Courier\\ New; color: rgb(0, 0, 0); line-height: 1.2; vertical-align: top; white-space: nowrap;\" xmlns=\"http://www.w3.org/1999/xhtml\"><div style=\"display:inline-block;text-align:inherit;text-decoration:inherit;\" xmlns=\"http://www.w3.org/1999/xhtml\">Sampled output</div></div></foreignObject><text fill=\"#000000\" font-family=\"Courier New\" font-size=\"12px\" text-anchor=\"middle\" x=\"49\" y=\"12\">Sampled output</text></switch></g></g></svg>"
      ],
      "text/plain": [
       "<IPython.core.display.SVG object>"
      ]
     },
     "metadata": {},
     "output_type": "display_data"
    }
   ],
   "source": [
    "from IPython.display import SVG, display\n",
    "display(SVG('./img/rnnlm.svg'))"
   ]
  },
  {
   "cell_type": "code",
   "execution_count": 2,
   "metadata": {
    "scrolled": true,
    "slideshow": {
     "slide_type": "subslide"
    }
   },
   "outputs": [
    {
     "name": "stdout",
     "output_type": "stream",
     "text": [
      "CharLanguageModel(\n",
      "  (embs): Embedding(72, 200, padding_idx=3)\n",
      "  (rnn): ModuleList(\n",
      "    (0): LSTM(200, 675)\n",
      "    (1): LSTM(675, 675)\n",
      "    (2): LSTM(675, 675)\n",
      "  )\n",
      "  (proj): Linear(in_features=675, out_features=72, bias=True)\n",
      ")\n"
     ]
    }
   ],
   "source": [
    "# `seqmod` is our custom library to train RNN-based models\n",
    "# To run this cell you'll need to make sure you have it\n",
    "#   1. clone or download the package from \"https://github.com/emanjavacas/hierarchical-lm\"\n",
    "#   2. put it on your python path\n",
    "#       import sys; sys.path.append(\"/path/to/hierarchical-lm/\")\n",
    "path = '/home/manjavacas/code/python/hierarchical-lm/'\n",
    "import sys\n",
    "if path not in sys.path:\n",
    "    sys.path.append(path)\n",
    "\n",
    "from hierarchical_lm import loader\n",
    "charlm, encoder = loader.model_loader('models/CharLanguageModel.2019-03-26+10:56:35')\n",
    "print(charlm)"
   ]
  },
  {
   "cell_type": "code",
   "execution_count": 5,
   "metadata": {
    "slideshow": {
     "slide_type": "subslide"
    }
   },
   "outputs": [
    {
     "name": "stderr",
     "output_type": "stream",
     "text": [
      "/home/manjavacas/code/python/hierarchical-lm/hierarchical_lm/char_model.py:260: UserWarning: Implicit dimension choice for softmax has been deprecated. Change the call to include dim=X as an argument.\n",
      "  probs = F.softmax(logits[-1])\n"
     ]
    },
    {
     "data": {
      "text/plain": [
       "<matplotlib.axes._subplots.AxesSubplot at 0x7fa8fcb0d668>"
      ]
     },
     "execution_count": 5,
     "metadata": {},
     "output_type": "execute_result"
    },
    {
     "data": {
      "image/png": "[encoded data removed]",
      "text/plain": [
       "<Figure size 1152x288 with 1 Axes>"
      ]
     },
     "metadata": {
      "needs_background": "light"
     },
     "output_type": "display_data"
    }
   ],
   "source": [
    "prefix = 'To be or not to b'\n",
    "targets, probs = charlm.get_next_probability(encoder, [prefix.split()])\n",
    "plot_output(targets, probs[0], prefix)"
   ]
  },
  {
   "cell_type": "markdown",
   "metadata": {
    "slideshow": {
     "slide_type": "slide"
    }
   },
   "source": [
    "# Temperature: tweaking the output distribution to enforce/penalize diversity\n",
    "\n",
    "- Generated text can often be boring, dull but also too non-sensical\n",
    "- We can tweak diversity by boosting or reducing model's confidence\n",
    "- This is achieve by artifically skewing or flattening the output distribution"
   ]
  },
  {
   "cell_type": "markdown",
   "metadata": {
    "slideshow": {
     "slide_type": "subslide"
    }
   },
   "source": [
    "Given the model output at a given step:\n",
    "\n",
    "$$p=P(w|The,cat,sat,on,the)$$ \n",
    "\n",
    "where p is a probability distribution over the vocabulary: \n",
    "\n",
    "$$p = \\{p_1, p_2, ..., p_v\\}$$\n"
   ]
  },
  {
   "cell_type": "markdown",
   "metadata": {
    "slideshow": {
     "slide_type": "subslide"
    }
   },
   "source": [
    "Define the transformed probability distribution by applying an element-wise non-linear function depending on user-defined parameter $\\tau$ (usually in range 0-2):\n",
    "\n",
    "$$p^{\\prime}_i = p_i^{(1/\\tau)}$$\n",
    "\n",
    "and renormalizing into a probability distribution by softmax:\n",
    "\n",
    "$$p^{\\tau}_i = \\frac{p_i^{\\prime}}{\\sum_{j=1}^v p_j^{\\prime}}$$\n"
   ]
  },
  {
   "cell_type": "markdown",
   "metadata": {
    "slideshow": {
     "slide_type": "subslide"
    }
   },
   "source": [
    "### Visualizing the effect of temperature"
   ]
  },
  {
   "cell_type": "code",
   "execution_count": 94,
   "metadata": {
    "slideshow": {
     "slide_type": "fragment"
    }
   },
   "outputs": [],
   "source": [
    "# fit a model on shakespeare data (charlm model is trained on same dataset)\n",
    "# UnsmoothedLM is defined in ngram_lm.py\n",
    "lm = UnsmoothedLM(5).fit(characters_from_files('shakespeare_input.txt'))\n",
    "\n",
    "# auxiliary functions to query the ngram model\n",
    "def query_lm(model=lm, seed='irst'):\n",
    "    \"\"\"Query a random probability from the NGRAM lm model\"\"\"\n",
    "    targets, probs = zip(*model.model[tuple(seed)])\n",
    "    probs = np.array(probs)\n",
    "    return targets, probs, seed\n",
    "\n",
    "# auxiliary function to query the rnn model\n",
    "def query_rnnlm(model=charlm, seed='Hi there'):\n",
    "    targets, probs = model.get_next_probability(encoder, [seed.split()])\n",
    "    probs = probs[0] # drop batch dim\n",
    "    return targets, probs, seed\n",
    "\n",
    "# some imports for interactive viz\n",
    "from ipywidgets import interact, ToggleButton"
   ]
  },
  {
   "cell_type": "code",
   "execution_count": 10,
   "metadata": {
    "slideshow": {
     "slide_type": "subslide"
    }
   },
   "outputs": [
    {
     "data": {
      "application/vnd.jupyter.widget-view+json": {
       "model_id": "2b55fbcd2a5147a1a6c5400f02b41811",
       "version_major": 2,
       "version_minor": 0
      },
      "text/plain": [
       "interactive(children=(FloatSlider(value=1.0, description='temperature', max=3.0, min=0.01), Output()), _dom_cl…"
      ]
     },
     "metadata": {},
     "output_type": "display_data"
    },
    {
     "data": {
      "text/plain": [
       "<function __main__.plot>"
      ]
     },
     "execution_count": 10,
     "metadata": {},
     "output_type": "execute_result"
    }
   ],
   "source": [
    "targets, probs, prefix = query_lm(seed=\"not t\") # from not to be...\n",
    "\n",
    "def plot(temperature=1.0):\n",
    "    # sort alphabetically\n",
    "    xticks, y = zip(*sorted(zip(targets, probs), key=lambda t: t[0]))\n",
    "    x = np.arange(len(targets))\n",
    "    fig = plt.figure(figsize=(16, 4))\n",
    "    ax = fig.add_subplot(111)\n",
    "    ax.bar(x, lm.apply_temperature(np.array(y), temperature))\n",
    "    ax.set_title(''.join(prefix))\n",
    "    ax.set_xticks(x)\n",
    "    ax.set_xticklabels(xticks)\n",
    "    ax.set_yticks(np.linspace(0, 1, 9))\n",
    "    return ax\n",
    "\n",
    "interact(plot, temperature=(1e-2, 3))"
   ]
  },
  {
   "cell_type": "code",
   "execution_count": 11,
   "metadata": {
    "slideshow": {
     "slide_type": "subslide"
    }
   },
   "outputs": [
    {
     "name": "stderr",
     "output_type": "stream",
     "text": [
      "/home/manjavacas/code/python/hierarchical-lm/hierarchical_lm/char_model.py:260: UserWarning: Implicit dimension choice for softmax has been deprecated. Change the call to include dim=X as an argument.\n",
      "  probs = F.softmax(logits[-1])\n"
     ]
    },
    {
     "data": {
      "application/vnd.jupyter.widget-view+json": {
       "model_id": "1acaf49ef88c400fa8168114375f11d8",
       "version_major": 2,
       "version_minor": 0
      },
      "text/plain": [
       "interactive(children=(FloatSlider(value=1.0, description='temperature', max=3.0, min=0.01), Output()), _dom_cl…"
      ]
     },
     "metadata": {},
     "output_type": "display_data"
    },
    {
     "data": {
      "text/plain": [
       "<function __main__.plot>"
      ]
     },
     "execution_count": 11,
     "metadata": {},
     "output_type": "execute_result"
    }
   ],
   "source": [
    "targets, probs, prefix = query_rnnlm(seed=\"To be or not to b\")\n",
    "\n",
    "def plot(temperature=1.0):\n",
    "    # sort alphabetically\n",
    "    xticks, y = zip(*sorted(zip(targets, probs), key=lambda t: t[0]))\n",
    "    x = np.arange(len(targets))\n",
    "    fig = plt.figure(figsize=(16, 4))\n",
    "    ax = fig.add_subplot(111)\n",
    "    ax.bar(x, lm.apply_temperature(np.array(y), temperature))\n",
    "    ax.set_title(''.join(prefix))\n",
    "    ax.set_xticks(x)\n",
    "    ax.set_xticklabels(xticks)\n",
    "    ax.set_yticks(np.linspace(0, 1, 9))\n",
    "    return ax\n",
    "\n",
    "interact(plot, temperature=(1e-2, 3))"
   ]
  },
  {
   "cell_type": "markdown",
   "metadata": {
    "slideshow": {
     "slide_type": "slide"
    }
   },
   "source": [
    "# Visualizing model certainty while processing text\n",
    "\n",
    "We are using code inside `./viz/` which is based on code by @karpathy (http://karpathy.github.io/2015/05/21/rnn-effectiveness/).\n",
    "\n",
    "To run the following visualization you first have to go into `./viz/` and run `python server.py`."
   ]
  },
  {
   "cell_type": "code",
   "execution_count": 5,
   "metadata": {
    "slideshow": {
     "slide_type": "fragment"
    }
   },
   "outputs": [],
   "source": [
    "from viz.client import register_data # function to compute per-charater scores and send them to the viz server\n",
    "\n",
    "# some random text by Shakespeare\n",
    "raw_text = \"\"\"\n",
    "We are accounted poor citizens, the patricians good. What authority surfeits on would relieve us: if they\n",
    "would yield us but the superfluity, while it were wholesome, we might guess they relieved us humanely;\n",
    "but they think we are too dear: the leanness that afflicts us, the object of our misery, is as an\n",
    "inventory to particularise their abundance; our sufferance is a gain to them Let us revenge this with\n",
    "our pikes, ere we become rakes: for the gods know I speak this in hunger for bread, not in thirst for revenge.\n",
    "\"\"\"\n",
    "text = ' '.join(raw_text.split()) # normalize whitespace\n",
    "text = text.strip() # remove trailing space"
   ]
  },
  {
   "cell_type": "code",
   "execution_count": 9,
   "metadata": {},
   "outputs": [],
   "source": [
    "tok_text = \"\"\"\n",
    "We are accounted poor citizens , the patricians good . What authority surfeits on would relieve us : if they\n",
    "would yield us but the superfluity , while it were wholesome , we might guess they relieved us humanely ;\n",
    "but they think we are too dear : the leanness that afflicts us , the object of our misery , is as an\n",
    "inventory to particularise their abundance ; our sufferance is a gain to them Let us revenge this with\n",
    "our pikes , ere we become rakes : for the gods know I speak this in hunger for bread , not in thirst for revenge .\n",
    "\"\"\"\n",
    "tok_text = ' '.join(tok_text.split()) # normalize whitespace\n",
    "tok_text = tok_text.strip() # remove trainling space"
   ]
  },
  {
   "cell_type": "code",
   "execution_count": 95,
   "metadata": {},
   "outputs": [
    {
     "data": {
      "text/plain": [
       "True"
      ]
     },
     "execution_count": 95,
     "metadata": {},
     "output_type": "execute_result"
    }
   ],
   "source": [
    "# visualize assigned probability per character as per Ngram LM\n",
    "targets, probs = lm.get_probabilities(raw_text, score_entropy=True)\n",
    "register_data(targets, probs)"
   ]
  },
  {
   "cell_type": "code",
   "execution_count": 52,
   "metadata": {},
   "outputs": [
    {
     "data": {
      "text/plain": [
       "True"
      ]
     },
     "execution_count": 52,
     "metadata": {},
     "output_type": "execute_result"
    }
   ],
   "source": [
    "# visualize hidden activations from RNN\n",
    "targets, output = charlm.get_activations(encoder, [text.split()])\n",
    "register_data(targets[0], output[0])"
   ]
  },
  {
   "cell_type": "code",
   "execution_count": 3,
   "metadata": {},
   "outputs": [
    {
     "name": "stdout",
     "output_type": "stream",
     "text": [
      "RNNLanguageModel(\n",
      "  (wembs): Embedding(10004, 100, padding_idx=3)\n",
      "  (cembs): Embedding(71, 100, padding_idx=3)\n",
      "  (cembs_rnn): CustomBiLSTM(\n",
      "    (fwd): CustomLSTM(\n",
      "      (cell): CustomLSTMCell(100, 50)\n",
      "    )\n",
      "    (bwd): CustomLSTM(\n",
      "      (cell): CustomLSTMCell(100, 50)\n",
      "    )\n",
      "  )\n",
      "  (rnn): ModuleList(\n",
      "    (0): LSTM(200, 640)\n",
      "    (1): LSTM(640, 640)\n",
      "  )\n",
      "  (proj): Linear(in_features=640, out_features=10004, bias=True)\n",
      ")\n"
     ]
    }
   ],
   "source": [
    "from hierarchical_lm import loader\n",
    "wordlm, encoder = loader.model_loader('./models/RNNLanguageModel.2019-03-26+17:02:48')\n",
    "print(wordlm)"
   ]
  },
  {
   "cell_type": "code",
   "execution_count": 10,
   "metadata": {},
   "outputs": [
    {
     "data": {
      "text/plain": [
       "True"
      ]
     },
     "execution_count": 10,
     "metadata": {},
     "output_type": "execute_result"
    }
   ],
   "source": [
    "targets, probs = wordlm.get_probabilities(encoder, [tok_text.split()])\n",
    "register_data(targets[0], probs[0], word=True)"
   ]
  },
  {
   "cell_type": "code",
   "execution_count": null,
   "metadata": {},
   "outputs": [],
   "source": [
    "targets, output = wordlm.get_activations(encoder, [tok_text.split()])\n",
    "register_data(targets[0], output[0], word=True)"
   ]
  },
  {
   "cell_type": "code",
   "execution_count": 69,
   "metadata": {},
   "outputs": [],
   "source": [
    "# Interesting activation (non-exhaustive)\n",
    "\n",
    "# 137, 836, 102: word boundary\n",
    "# 806: word & sent boundary\n",
    "# 743: reset at the beginning\n",
    "# 287: end of verse\n",
    "# 196: verbs?\n",
    "# 2, 22, 69: verse boundary\n",
    "# 41: word & verse boundary\n",
    "# 162: strange pattern"
   ]
  },
  {
   "cell_type": "code",
   "execution_count": null,
   "metadata": {},
   "outputs": [],
   "source": []
  }
 ],
 "metadata": {
  "kernelspec": {
   "display_name": "Python 3",
   "language": "python",
   "name": "python3"
  },
  "language_info": {
   "codemirror_mode": {
    "name": "ipython",
    "version": 3
   },
   "file_extension": ".py",
   "mimetype": "text/x-python",
   "name": "python",
   "nbconvert_exporter": "python",
   "pygments_lexer": "ipython3",
   "version": "3.6.8"
  }
 },
 "nbformat": 4,
 "nbformat_minor": 2
}
